{
 "cells": [
  {
   "cell_type": "code",
   "execution_count": 8,
   "metadata": {},
   "outputs": [],
   "source": [
    "from selenium import webdriver\n",
    "from selenium.webdriver.common.keys import Keys \n",
    "from selenium.webdriver.common.by import By\n",
    "from selenium.webdriver.chrome.service import Service\n",
    "from bs4 import BeautifulSoup\n",
    "import pandas as pd\n",
    "import time\n",
    "\n",
    "# Initialize the WebDriver\n",
    "driver = webdriver.Chrome()\n",
    "\n",
    "# Function to scrape a single page\n",
    "def scrape_page(url):\n",
    "    driver.get(url)\n",
    "    time.sleep(3)  # Wait for the page to load\n",
    "    soup = BeautifulSoup(driver.page_source, 'html.parser')\n",
    "    works = []\n",
    "    \n",
    "    # Find work listings\n",
    "    for work in soup.find_all('li', class_='work'):\n",
    "        title = work.find('h4', class_='heading').a.text.strip()\n",
    "        author = work.find('a', rel='author')\n",
    "        summary = work.find('blockquote', class_='userstuff').text.strip()\n",
    "        tags = ', '.join([tag.text for tag in work.find_all('ul', class_='tags')])\n",
    "        pub_date = work.find('p', class_='datetime').text.strip()\n",
    "        author = author.text.strip() if author else 'N/A'\n",
    "        kudos = work.find('a', rel='kudos')\n",
    "        kudos = kudos.text.strip() if kudos else 'N/A'\n",
    "        works.append([title, author, summary, tags, pub_date, kudos])\n",
    "    \n",
    "    return works\n",
    "\n",
    "\n",
    "# URL of the first page of works\n",
    "url = 'https://archiveofourown.org/works/search?work_search%5Bquery%5D=&work_search%5Btitle%5D=&work_search%5Bcreators%5D=&work_search%5Brevised_at%5D=&work_search%5Bcomplete%5D=&work_search%5Bcrossover%5D=F&work_search%5Bsingle_chapter%5D=0&work_search%5Bword_count%5D=&work_search%5Blanguage_id%5D=en&work_search%5Bfandom_names%5D=One+Piece+%28Anime+%26+Manga%29&work_search%5Brating_ids%5D=&work_search%5Bcharacter_names%5D=&work_search%5Brelationship_names%5D=&work_search%5Bfreeform_names%5D=&work_search%5Bhits%5D=&work_search%5Bkudos_count%5D=&work_search%5Bcomments_count%5D=&work_search%5Bbookmarks_count%5D=&work_search%5Bsort_column%5D=kudos_count&work_search%5Bsort_direction%5D=desc&commit=Search'\n",
    "data = []\n",
    "\n",
    "# Scrape multiple pages\n",
    "for i in range(1, 11):  # Adjust the range for the number of pages you want to scrape\n",
    "    page_url = f'{url}{i}'\n",
    "    data.extend(scrape_page(page_url))\n",
    "    time.sleep(2)  # Be respectful and avoid hitting the server too hard\n",
    "\n",
    "# Convert data to DataFrame\n",
    "df = pd.DataFrame(data, columns=['Title', 'Author', 'Summary', 'Tags', 'Publication Date', 'Kudos'])\n",
    "\n"
   ]
  },
  {
   "cell_type": "code",
   "execution_count": 10,
   "metadata": {},
   "outputs": [
    {
     "name": "stdout",
     "output_type": "stream",
     "text": [
      "<class 'pandas.core.frame.DataFrame'>\n",
      "RangeIndex: 200 entries, 0 to 199\n",
      "Data columns (total 6 columns):\n",
      " #   Column            Non-Null Count  Dtype \n",
      "---  ------            --------------  ----- \n",
      " 0   Title             200 non-null    object\n",
      " 1   Author            200 non-null    object\n",
      " 2   Summary           200 non-null    object\n",
      " 3   Tags              200 non-null    object\n",
      " 4   Publication Date  200 non-null    object\n",
      " 5   Kudos             200 non-null    object\n",
      "dtypes: object(6)\n",
      "memory usage: 9.5+ KB\n",
      "None\n",
      "Index(['Title', 'Author', 'Summary', 'Tags', 'Publication Date', 'Kudos'], dtype='object')\n",
      "                                               Title           Author  \\\n",
      "0                             unintended consequence     itsmylifekay   \n",
      "1            come on, come on (turn a little faster)  donutsandcoffee   \n",
      "2                                             Facade     Hazel_Athena   \n",
      "3  Fuck, Marry, Kill (or, how Usopp becomes the b...          adietxt   \n",
      "4                                   Rewind (Be Kind)  donutsandcoffee   \n",
      "\n",
      "                                             Summary  \\\n",
      "0  Imagine person A making person B a friendship ...   \n",
      "1  The one where everyone thinks they’re dating, ...   \n",
      "2  Left with only three other crew mates, it’s a ...   \n",
      "3  Everyone wants to marry Zoro. Hypothetically. ...   \n",
      "4  What should be a run-of-the-mill skirmish with...   \n",
      "\n",
      "                                                Tags Publication Date Kudos  \n",
      "0  \\nCreator Chose Not To Use Archive WarningsRor...      27 Apr 2016   N/A  \n",
      "1  \\nNo Archive Warnings ApplyRoronoa Zoro/Vinsmo...      03 Sep 2017   N/A  \n",
      "2  \\nNo Archive Warnings ApplyRoronoa Zoro/Vinsmo...      16 Aug 2022   N/A  \n",
      "3  \\nNo Archive Warnings ApplyRoronoa Zoro/Vinsmo...      14 Oct 2018   N/A  \n",
      "4  \\nNo Archive Warnings ApplyRoronoa Zoro/Vinsmo...      26 Dec 2016   N/A  \n"
     ]
    }
   ],
   "source": [
    "print(df.info())\n",
    "print(df.columns)\n",
    "print(df.head())"
   ]
  },
  {
   "cell_type": "code",
   "execution_count": 11,
   "metadata": {},
   "outputs": [],
   "source": [
    "import plotly.graph_objects as go\n",
    "import plotly.io as pio\n",
    "\n",
    "pio.renderers.default = \"browser\"\n",
    "\n",
    "\n",
    "fig = go.Figure(data=[go.Table(\n",
    "    header=dict(values=list(df.columns),\n",
    "                fill_color='paleturquoise',\n",
    "                align='left'),\n",
    "    cells=dict(values=[df.Title, df.Author, df.Summary, df.Tags, df['Publication Date']],\n",
    "               fill_color='lavender',\n",
    "               align='left'))\n",
    "])\n",
    "\n",
    "fig.show()"
   ]
  }
 ],
 "metadata": {
  "kernelspec": {
   "display_name": "Python 3",
   "language": "python",
   "name": "python3"
  },
  "language_info": {
   "codemirror_mode": {
    "name": "ipython",
    "version": 3
   },
   "file_extension": ".py",
   "mimetype": "text/x-python",
   "name": "python",
   "nbconvert_exporter": "python",
   "pygments_lexer": "ipython3",
   "version": "3.11.5"
  }
 },
 "nbformat": 4,
 "nbformat_minor": 2
}
